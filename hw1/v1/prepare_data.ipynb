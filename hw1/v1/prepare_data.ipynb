{
 "cells": [
  {
   "cell_type": "code",
   "execution_count": 1,
   "id": "initial_id",
   "metadata": {
    "collapsed": true,
    "ExecuteTime": {
     "end_time": "2024-03-26T14:44:06.747944500Z",
     "start_time": "2024-03-26T14:44:06.189615Z"
    }
   },
   "outputs": [],
   "source": [
    "import pandas as pd\n",
    "import matplotlib.pyplot as plt\n",
    "from tqdm import tqdm\n",
    "import numpy as np\n",
    "from sklearn.model_selection import train_test_split\n",
    "from sklearn.metrics import f1_score, precision_score, recall_score, roc_curve, roc_auc_score, confusion_matrix, \\\n",
    "    ConfusionMatrixDisplay, balanced_accuracy_score, auc\n",
    "from sklearn.linear_model import LogisticRegression\n",
    "from sklearn.ensemble import GradientBoostingClassifier\n",
    "import itertools\n",
    "from sklearn.svm import SVC\n",
    "from sklearn.model_selection import GridSearchCV, RandomizedSearchCV\n",
    "from scipy.stats import uniform, randint\n",
    "from sklearn.model_selection import RandomizedSearchCV\n",
    "from xgboost import XGBClassifier, XGBRegressor\n",
    "from scipy.stats import uniform, randint\n",
    "import xgboost as xgb\n",
    "from sklearn import metrics\n"
   ]
  },
  {
   "cell_type": "code",
   "execution_count": 2,
   "outputs": [
    {
     "name": "stdout",
     "output_type": "stream",
     "text": [
      "                                                user  track  time\n",
      "0  ee8621197232afef4ae573079d64480ba7640c9eb91a7e...  41378   1.0\n",
      "1  9b19f9ab816598a0809e4afd5d60800f2dbef9cbb9b03a...  44158   0.0\n",
      "2  be3d629f02589a093027c0b917aa7668f22b2f89e83328...   1263   0.8\n",
      "3  3d810b358ef3f88619945df4182acda92a24e99c8b28e8...   3781   0.0\n",
      "4  2261b761b06d13e4ca4118d58d91eb7312ae864b2916d7...  32711   0.0\n",
      "                                                user  track\n",
      "0  6b86b273ff34fce19d6b804eff5a3f5747ada4eaa22f1d...   4218\n",
      "1  6b86b273ff34fce19d6b804eff5a3f5747ada4eaa22f1d...  19007\n",
      "2  6b86b273ff34fce19d6b804eff5a3f5747ada4eaa22f1d...    346\n",
      "3  6b86b273ff34fce19d6b804eff5a3f5747ada4eaa22f1d...   8822\n",
      "4  6b86b273ff34fce19d6b804eff5a3f5747ada4eaa22f1d...  29271\n"
     ]
    }
   ],
   "source": [
    "train_data = pd.read_csv(\"../train.csv\")\n",
    "test_data = pd.read_csv(\"../test.csv\")\n",
    "\n",
    "print(train_data.head())\n",
    "print(test_data.head())"
   ],
   "metadata": {
    "collapsed": false,
    "ExecuteTime": {
     "end_time": "2024-03-26T14:44:07.796879800Z",
     "start_time": "2024-03-26T14:44:06.747944500Z"
    }
   },
   "id": "4bd7c4d633edb478"
  },
  {
   "cell_type": "code",
   "execution_count": 3,
   "outputs": [],
   "source": [
    "user_avg_time = train_data.groupby('user')['time'].mean().reset_index()\n",
    "user_avg_time.columns = ['user', 'user_avg_time']\n",
    "\n",
    "user_track_count = train_data.groupby('user')['track'].count().reset_index()\n",
    "user_track_count.columns = ['user', 'user_track_count']\n",
    "\n",
    "track_avg_time = train_data.groupby('track')['time'].mean().reset_index()\n",
    "track_avg_time.columns = ['track', 'track_avg_time']\n",
    "\n",
    "track_listen_count = train_data.groupby('track').size().reset_index(name='track_listen_count')\n",
    "\n"
   ],
   "metadata": {
    "collapsed": false,
    "ExecuteTime": {
     "end_time": "2024-03-26T14:44:10.029982300Z",
     "start_time": "2024-03-26T14:44:08.697532100Z"
    }
   },
   "id": "a87a69c3c15652c7"
  },
  {
   "cell_type": "code",
   "execution_count": 4,
   "outputs": [
    {
     "data": {
      "text/plain": "                                                    user  track  \\\n0      6b86b273ff34fce19d6b804eff5a3f5747ada4eaa22f1d...   4218   \n1      6b86b273ff34fce19d6b804eff5a3f5747ada4eaa22f1d...  19007   \n2      6b86b273ff34fce19d6b804eff5a3f5747ada4eaa22f1d...    346   \n3      6b86b273ff34fce19d6b804eff5a3f5747ada4eaa22f1d...   8822   \n4      6b86b273ff34fce19d6b804eff5a3f5747ada4eaa22f1d...  29271   \n...                                                  ...    ...   \n43255  888df25ae35772424a560c7152a1de794440e0ea5cfee6...  36867   \n43256  888df25ae35772424a560c7152a1de794440e0ea5cfee6...   5948   \n43257  888df25ae35772424a560c7152a1de794440e0ea5cfee6...  46988   \n43258  888df25ae35772424a560c7152a1de794440e0ea5cfee6...  18083   \n43259  888df25ae35772424a560c7152a1de794440e0ea5cfee6...  24814   \n\n       user_avg_time  user_track_count  track_avg_time  track_listen_count  \n0           0.206739                92        0.482623                  61  \n1           0.206739                92        0.175429                  35  \n2           0.206739                92        0.209697                  33  \n3           0.206739                92        0.137083                  24  \n4           0.206739                92        0.111463                  41  \n...              ...               ...             ...                 ...  \n43255       0.137009               117        0.183939                  33  \n43256       0.137009               117        0.228485                  33  \n43257       0.137009               117        0.104444                  18  \n43258       0.137009               117        0.163000                  30  \n43259       0.137009               117        0.147273                  33  \n\n[43260 rows x 6 columns]",
      "text/html": "<div>\n<style scoped>\n    .dataframe tbody tr th:only-of-type {\n        vertical-align: middle;\n    }\n\n    .dataframe tbody tr th {\n        vertical-align: top;\n    }\n\n    .dataframe thead th {\n        text-align: right;\n    }\n</style>\n<table border=\"1\" class=\"dataframe\">\n  <thead>\n    <tr style=\"text-align: right;\">\n      <th></th>\n      <th>user</th>\n      <th>track</th>\n      <th>user_avg_time</th>\n      <th>user_track_count</th>\n      <th>track_avg_time</th>\n      <th>track_listen_count</th>\n    </tr>\n  </thead>\n  <tbody>\n    <tr>\n      <th>0</th>\n      <td>6b86b273ff34fce19d6b804eff5a3f5747ada4eaa22f1d...</td>\n      <td>4218</td>\n      <td>0.206739</td>\n      <td>92</td>\n      <td>0.482623</td>\n      <td>61</td>\n    </tr>\n    <tr>\n      <th>1</th>\n      <td>6b86b273ff34fce19d6b804eff5a3f5747ada4eaa22f1d...</td>\n      <td>19007</td>\n      <td>0.206739</td>\n      <td>92</td>\n      <td>0.175429</td>\n      <td>35</td>\n    </tr>\n    <tr>\n      <th>2</th>\n      <td>6b86b273ff34fce19d6b804eff5a3f5747ada4eaa22f1d...</td>\n      <td>346</td>\n      <td>0.206739</td>\n      <td>92</td>\n      <td>0.209697</td>\n      <td>33</td>\n    </tr>\n    <tr>\n      <th>3</th>\n      <td>6b86b273ff34fce19d6b804eff5a3f5747ada4eaa22f1d...</td>\n      <td>8822</td>\n      <td>0.206739</td>\n      <td>92</td>\n      <td>0.137083</td>\n      <td>24</td>\n    </tr>\n    <tr>\n      <th>4</th>\n      <td>6b86b273ff34fce19d6b804eff5a3f5747ada4eaa22f1d...</td>\n      <td>29271</td>\n      <td>0.206739</td>\n      <td>92</td>\n      <td>0.111463</td>\n      <td>41</td>\n    </tr>\n    <tr>\n      <th>...</th>\n      <td>...</td>\n      <td>...</td>\n      <td>...</td>\n      <td>...</td>\n      <td>...</td>\n      <td>...</td>\n    </tr>\n    <tr>\n      <th>43255</th>\n      <td>888df25ae35772424a560c7152a1de794440e0ea5cfee6...</td>\n      <td>36867</td>\n      <td>0.137009</td>\n      <td>117</td>\n      <td>0.183939</td>\n      <td>33</td>\n    </tr>\n    <tr>\n      <th>43256</th>\n      <td>888df25ae35772424a560c7152a1de794440e0ea5cfee6...</td>\n      <td>5948</td>\n      <td>0.137009</td>\n      <td>117</td>\n      <td>0.228485</td>\n      <td>33</td>\n    </tr>\n    <tr>\n      <th>43257</th>\n      <td>888df25ae35772424a560c7152a1de794440e0ea5cfee6...</td>\n      <td>46988</td>\n      <td>0.137009</td>\n      <td>117</td>\n      <td>0.104444</td>\n      <td>18</td>\n    </tr>\n    <tr>\n      <th>43258</th>\n      <td>888df25ae35772424a560c7152a1de794440e0ea5cfee6...</td>\n      <td>18083</td>\n      <td>0.137009</td>\n      <td>117</td>\n      <td>0.163000</td>\n      <td>30</td>\n    </tr>\n    <tr>\n      <th>43259</th>\n      <td>888df25ae35772424a560c7152a1de794440e0ea5cfee6...</td>\n      <td>24814</td>\n      <td>0.137009</td>\n      <td>117</td>\n      <td>0.147273</td>\n      <td>33</td>\n    </tr>\n  </tbody>\n</table>\n<p>43260 rows × 6 columns</p>\n</div>"
     },
     "execution_count": 4,
     "metadata": {},
     "output_type": "execute_result"
    }
   ],
   "source": [
    "test_data = test_data.merge(user_avg_time, on='user', how='left')\n",
    "test_data = test_data.merge(user_track_count, on='user', how='left')\n",
    "test_data = test_data.merge(track_avg_time, on='track', how='left')\n",
    "test_data = test_data.merge(track_listen_count, on='track', how='left')\n",
    "test_data"
   ],
   "metadata": {
    "collapsed": false,
    "ExecuteTime": {
     "end_time": "2024-03-26T14:44:10.539265300Z",
     "start_time": "2024-03-26T14:44:10.477914900Z"
    }
   },
   "id": "19ce589c7494f282"
  },
  {
   "cell_type": "code",
   "execution_count": 5,
   "outputs": [
    {
     "data": {
      "text/plain": "                                                      user  track  time  \\\n0        ee8621197232afef4ae573079d64480ba7640c9eb91a7e...  41378  1.00   \n1        9b19f9ab816598a0809e4afd5d60800f2dbef9cbb9b03a...  44158  0.00   \n2        be3d629f02589a093027c0b917aa7668f22b2f89e83328...   1263  0.80   \n3        3d810b358ef3f88619945df4182acda92a24e99c8b28e8...   3781  0.00   \n4        2261b761b06d13e4ca4118d58d91eb7312ae864b2916d7...  32711  0.00   \n...                                                    ...    ...   ...   \n1671406  9e558a7dc777d285f1384223cdb889ab060244c1826ec7...   4729  0.00   \n1671407  7a84ae249fa744b8c1acb6c5247c2cf443e31870aa7217...  20548  0.00   \n1671408  1763888c1a5b2655976fd20c3e898415b42a3afa38bd28...  35971  0.00   \n1671409  3c4dcf6dfc899bd68a7f7961e7ca5a61d2d71d500f9785...  34927  0.03   \n1671410  359bc49a0d31df4a0421ab1527a596b516dd320a156dc4...  40755  1.00   \n\n         user_avg_time  user_track_count  track_avg_time  track_listen_count  \n0             0.169500               180        0.214737                  38  \n1             0.148226               124        0.182069                  29  \n2             0.201677               167        0.523857                  70  \n3             0.262101               138        0.201351                  37  \n4             0.189217               166        0.173600                  25  \n...                ...               ...             ...                 ...  \n1671406       0.179826               172        0.096364                  22  \n1671407       0.165222               180        0.148214                  28  \n1671408       0.183864               132        0.143571                  28  \n1671409       0.287872               141        0.144167                  36  \n1671410       0.136375               160        0.251111                  45  \n\n[1671411 rows x 7 columns]",
      "text/html": "<div>\n<style scoped>\n    .dataframe tbody tr th:only-of-type {\n        vertical-align: middle;\n    }\n\n    .dataframe tbody tr th {\n        vertical-align: top;\n    }\n\n    .dataframe thead th {\n        text-align: right;\n    }\n</style>\n<table border=\"1\" class=\"dataframe\">\n  <thead>\n    <tr style=\"text-align: right;\">\n      <th></th>\n      <th>user</th>\n      <th>track</th>\n      <th>time</th>\n      <th>user_avg_time</th>\n      <th>user_track_count</th>\n      <th>track_avg_time</th>\n      <th>track_listen_count</th>\n    </tr>\n  </thead>\n  <tbody>\n    <tr>\n      <th>0</th>\n      <td>ee8621197232afef4ae573079d64480ba7640c9eb91a7e...</td>\n      <td>41378</td>\n      <td>1.00</td>\n      <td>0.169500</td>\n      <td>180</td>\n      <td>0.214737</td>\n      <td>38</td>\n    </tr>\n    <tr>\n      <th>1</th>\n      <td>9b19f9ab816598a0809e4afd5d60800f2dbef9cbb9b03a...</td>\n      <td>44158</td>\n      <td>0.00</td>\n      <td>0.148226</td>\n      <td>124</td>\n      <td>0.182069</td>\n      <td>29</td>\n    </tr>\n    <tr>\n      <th>2</th>\n      <td>be3d629f02589a093027c0b917aa7668f22b2f89e83328...</td>\n      <td>1263</td>\n      <td>0.80</td>\n      <td>0.201677</td>\n      <td>167</td>\n      <td>0.523857</td>\n      <td>70</td>\n    </tr>\n    <tr>\n      <th>3</th>\n      <td>3d810b358ef3f88619945df4182acda92a24e99c8b28e8...</td>\n      <td>3781</td>\n      <td>0.00</td>\n      <td>0.262101</td>\n      <td>138</td>\n      <td>0.201351</td>\n      <td>37</td>\n    </tr>\n    <tr>\n      <th>4</th>\n      <td>2261b761b06d13e4ca4118d58d91eb7312ae864b2916d7...</td>\n      <td>32711</td>\n      <td>0.00</td>\n      <td>0.189217</td>\n      <td>166</td>\n      <td>0.173600</td>\n      <td>25</td>\n    </tr>\n    <tr>\n      <th>...</th>\n      <td>...</td>\n      <td>...</td>\n      <td>...</td>\n      <td>...</td>\n      <td>...</td>\n      <td>...</td>\n      <td>...</td>\n    </tr>\n    <tr>\n      <th>1671406</th>\n      <td>9e558a7dc777d285f1384223cdb889ab060244c1826ec7...</td>\n      <td>4729</td>\n      <td>0.00</td>\n      <td>0.179826</td>\n      <td>172</td>\n      <td>0.096364</td>\n      <td>22</td>\n    </tr>\n    <tr>\n      <th>1671407</th>\n      <td>7a84ae249fa744b8c1acb6c5247c2cf443e31870aa7217...</td>\n      <td>20548</td>\n      <td>0.00</td>\n      <td>0.165222</td>\n      <td>180</td>\n      <td>0.148214</td>\n      <td>28</td>\n    </tr>\n    <tr>\n      <th>1671408</th>\n      <td>1763888c1a5b2655976fd20c3e898415b42a3afa38bd28...</td>\n      <td>35971</td>\n      <td>0.00</td>\n      <td>0.183864</td>\n      <td>132</td>\n      <td>0.143571</td>\n      <td>28</td>\n    </tr>\n    <tr>\n      <th>1671409</th>\n      <td>3c4dcf6dfc899bd68a7f7961e7ca5a61d2d71d500f9785...</td>\n      <td>34927</td>\n      <td>0.03</td>\n      <td>0.287872</td>\n      <td>141</td>\n      <td>0.144167</td>\n      <td>36</td>\n    </tr>\n    <tr>\n      <th>1671410</th>\n      <td>359bc49a0d31df4a0421ab1527a596b516dd320a156dc4...</td>\n      <td>40755</td>\n      <td>1.00</td>\n      <td>0.136375</td>\n      <td>160</td>\n      <td>0.251111</td>\n      <td>45</td>\n    </tr>\n  </tbody>\n</table>\n<p>1671411 rows × 7 columns</p>\n</div>"
     },
     "execution_count": 5,
     "metadata": {},
     "output_type": "execute_result"
    }
   ],
   "source": [
    "train_data = train_data.merge(user_avg_time, on='user', how='left')\n",
    "train_data = train_data.merge(user_track_count, on='user', how='left')\n",
    "train_data = train_data.merge(track_avg_time, on='track', how='left')\n",
    "train_data = train_data.merge(track_listen_count, on='track', how='left')\n",
    "train_data"
   ],
   "metadata": {
    "collapsed": false,
    "ExecuteTime": {
     "end_time": "2024-03-26T14:44:14.560016200Z",
     "start_time": "2024-03-26T14:44:13.278827400Z"
    }
   },
   "id": "78f7724501f6b5b8"
  },
  {
   "cell_type": "code",
   "execution_count": 8,
   "outputs": [
    {
     "data": {
      "text/plain": "0"
     },
     "execution_count": 8,
     "metadata": {},
     "output_type": "execute_result"
    }
   ],
   "source": [
    "test_data.isna().sum().sum()"
   ],
   "metadata": {
    "collapsed": false,
    "ExecuteTime": {
     "end_time": "2024-03-26T14:44:48.618010800Z",
     "start_time": "2024-03-26T14:44:48.599020100Z"
    }
   },
   "id": "11483a8a4ac2e105"
  },
  {
   "cell_type": "code",
   "execution_count": 9,
   "outputs": [
    {
     "data": {
      "text/plain": "0"
     },
     "execution_count": 9,
     "metadata": {},
     "output_type": "execute_result"
    }
   ],
   "source": [
    "train_data.isna().sum().sum()"
   ],
   "metadata": {
    "collapsed": false,
    "ExecuteTime": {
     "end_time": "2024-03-26T14:44:51.287949800Z",
     "start_time": "2024-03-26T14:44:51.199310700Z"
    }
   },
   "id": "d5f2e186583e5e97"
  },
  {
   "cell_type": "code",
   "execution_count": 10,
   "outputs": [],
   "source": [
    "train_data.to_csv(\"train.csv\")\n",
    "test_data.to_csv(\"test.csv\")"
   ],
   "metadata": {
    "collapsed": false,
    "ExecuteTime": {
     "end_time": "2024-03-26T14:45:06.072263400Z",
     "start_time": "2024-03-26T14:44:57.347866800Z"
    }
   },
   "id": "b6c4f0d1e0180573"
  },
  {
   "cell_type": "code",
   "execution_count": null,
   "outputs": [],
   "source": [],
   "metadata": {
    "collapsed": false
   },
   "id": "b74996dd53f6b01a"
  }
 ],
 "metadata": {
  "kernelspec": {
   "display_name": "Python 3",
   "language": "python",
   "name": "python3"
  },
  "language_info": {
   "codemirror_mode": {
    "name": "ipython",
    "version": 2
   },
   "file_extension": ".py",
   "mimetype": "text/x-python",
   "name": "python",
   "nbconvert_exporter": "python",
   "pygments_lexer": "ipython2",
   "version": "2.7.6"
  }
 },
 "nbformat": 4,
 "nbformat_minor": 5
}
